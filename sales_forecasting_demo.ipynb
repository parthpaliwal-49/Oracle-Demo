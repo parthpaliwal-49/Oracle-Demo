{
 "cells": [
  {
   "cell_type": "markdown",
   "metadata": {
    "id": "XEB6c1LY-Hnv"
   },
   "source": [
    "# Monthly Sales Forecasting for DMart"
   ]
  },
  {
   "cell_type": "markdown",
   "metadata": {
    "id": "145dfOye-JmU"
   },
   "source": [
    "Import Libraries"
   ]
  },
  {
   "cell_type": "code",
   "execution_count": 39,
   "metadata": {
    "id": "ivlmKP0S-NOL"
   },
   "outputs": [],
   "source": [
    "import pandas as pd\n",
    "import numpy as np\n",
    "import matplotlib.pyplot as plt\n",
    "import seaborn as sns\n",
    "from sklearn.model_selection import train_test_split\n",
    "from sklearn.linear_model import LinearRegression\n",
    "from sklearn.metrics import r2_score\n",
    "from sklearn.metrics import mean_squared_error as mse\n",
    "from sklearn.preprocessing import LabelEncoder\n",
    "import xgboost as xgb"
   ]
  },
  {
   "cell_type": "markdown",
   "metadata": {
    "id": "NQ-7FvCh-RHc"
   },
   "source": [
    "Import Dataset"
   ]
  },
  {
   "cell_type": "code",
   "execution_count": 40,
   "metadata": {
    "colab": {
     "base_uri": "https://localhost:8080/",
     "height": 468
    },
    "executionInfo": {
     "elapsed": 657,
     "status": "ok",
     "timestamp": 1683545505217,
     "user": {
      "displayName": "venkat ekkuluri",
      "userId": "14014234653489302162"
     },
     "user_tz": -330
    },
    "id": "PcME2dbA-TLE",
    "outputId": "c0611d16-6685-4cc4-e22e-899c067ef81e"
   },
   "outputs": [
    {
     "data": {
      "text/html": [
       "<div>\n",
       "<style scoped>\n",
       "    .dataframe tbody tr th:only-of-type {\n",
       "        vertical-align: middle;\n",
       "    }\n",
       "\n",
       "    .dataframe tbody tr th {\n",
       "        vertical-align: top;\n",
       "    }\n",
       "\n",
       "    .dataframe thead th {\n",
       "        text-align: right;\n",
       "    }\n",
       "</style>\n",
       "<table border=\"1\" class=\"dataframe\">\n",
       "  <thead>\n",
       "    <tr style=\"text-align: right;\">\n",
       "      <th></th>\n",
       "      <th>Date</th>\n",
       "      <th>Category</th>\n",
       "      <th>SaleID</th>\n",
       "      <th>ProductName</th>\n",
       "      <th>ProductID</th>\n",
       "      <th>Price</th>\n",
       "      <th>Quantity</th>\n",
       "      <th>TotalPrice</th>\n",
       "    </tr>\n",
       "  </thead>\n",
       "  <tbody>\n",
       "    <tr>\n",
       "      <th>0</th>\n",
       "      <td>4/1/2022</td>\n",
       "      <td>Appliances</td>\n",
       "      <td>8e8205ee-e7f5-11ed-b086-f48c5055e0eb</td>\n",
       "      <td>Duracell Chhota Power AA?Batteries</td>\n",
       "      <td>133</td>\n",
       "      <td>95</td>\n",
       "      <td>4</td>\n",
       "      <td>380</td>\n",
       "    </tr>\n",
       "    <tr>\n",
       "      <th>1</th>\n",
       "      <td>4/1/2022</td>\n",
       "      <td>Appliances</td>\n",
       "      <td>8e8205ef-e7f5-11ed-bc85-f48c5055e0eb</td>\n",
       "      <td>Kajafa Multifunctional Juicer - 400 W</td>\n",
       "      <td>265</td>\n",
       "      <td>1550</td>\n",
       "      <td>8</td>\n",
       "      <td>12400</td>\n",
       "    </tr>\n",
       "    <tr>\n",
       "      <th>2</th>\n",
       "      <td>4/1/2022</td>\n",
       "      <td>Appliances</td>\n",
       "      <td>8e8205f0-e7f5-11ed-acb3-f48c5055e0eb</td>\n",
       "      <td>Usha IH2410 Immersion Heater</td>\n",
       "      <td>563</td>\n",
       "      <td>650</td>\n",
       "      <td>5</td>\n",
       "      <td>3250</td>\n",
       "    </tr>\n",
       "    <tr>\n",
       "      <th>3</th>\n",
       "      <td>4/1/2022</td>\n",
       "      <td>Appliances</td>\n",
       "      <td>8e8205f1-e7f5-11ed-84e4-f48c5055e0eb</td>\n",
       "      <td>Eureka Super Clean Vacuum Cleaner</td>\n",
       "      <td>158</td>\n",
       "      <td>3599</td>\n",
       "      <td>4</td>\n",
       "      <td>14396</td>\n",
       "    </tr>\n",
       "    <tr>\n",
       "      <th>4</th>\n",
       "      <td>4/1/2022</td>\n",
       "      <td>Appliances</td>\n",
       "      <td>8e8205f2-e7f5-11ed-aa61-f48c5055e0eb</td>\n",
       "      <td>GM Air MT Electric Ceiling Fan - 1200 mm</td>\n",
       "      <td>208</td>\n",
       "      <td>1799</td>\n",
       "      <td>5</td>\n",
       "      <td>8995</td>\n",
       "    </tr>\n",
       "    <tr>\n",
       "      <th>...</th>\n",
       "      <td>...</td>\n",
       "      <td>...</td>\n",
       "      <td>...</td>\n",
       "      <td>...</td>\n",
       "      <td>...</td>\n",
       "      <td>...</td>\n",
       "      <td>...</td>\n",
       "      <td>...</td>\n",
       "    </tr>\n",
       "    <tr>\n",
       "      <th>219398</th>\n",
       "      <td>3/31/2023</td>\n",
       "      <td>Mobile_stand</td>\n",
       "      <td>92869de4-e7f5-11ed-942b-f48c5055e0eb</td>\n",
       "      <td>ELV Aluminum Adjustable Foldable Stand for All...</td>\n",
       "      <td>151</td>\n",
       "      <td>289</td>\n",
       "      <td>1</td>\n",
       "      <td>289</td>\n",
       "    </tr>\n",
       "    <tr>\n",
       "      <th>219399</th>\n",
       "      <td>3/31/2023</td>\n",
       "      <td>Mobile_stand</td>\n",
       "      <td>92869de5-e7f5-11ed-b091-f48c5055e0eb</td>\n",
       "      <td>MADPAIR Invisible Mobile Kickstand Mobile Holder</td>\n",
       "      <td>325</td>\n",
       "      <td>199</td>\n",
       "      <td>5</td>\n",
       "      <td>995</td>\n",
       "    </tr>\n",
       "    <tr>\n",
       "      <th>219400</th>\n",
       "      <td>3/31/2023</td>\n",
       "      <td>Mobile_stand</td>\n",
       "      <td>92869de6-e7f5-11ed-9c61-f48c5055e0eb</td>\n",
       "      <td>Flipkart SmartBuy NextGen Multi Angle Mobile S...</td>\n",
       "      <td>185</td>\n",
       "      <td>170</td>\n",
       "      <td>1</td>\n",
       "      <td>170</td>\n",
       "    </tr>\n",
       "    <tr>\n",
       "      <th>219401</th>\n",
       "      <td>3/31/2023</td>\n",
       "      <td>Mobile_stand</td>\n",
       "      <td>92869de7-e7f5-11ed-bd38-f48c5055e0eb</td>\n",
       "      <td>Techvor Universal Mobile Holder Metal Mobile s...</td>\n",
       "      <td>508</td>\n",
       "      <td>159</td>\n",
       "      <td>1</td>\n",
       "      <td>159</td>\n",
       "    </tr>\n",
       "    <tr>\n",
       "      <th>219402</th>\n",
       "      <td>3/31/2023</td>\n",
       "      <td>Mobile_stand</td>\n",
       "      <td>92869de8-e7f5-11ed-9388-f48c5055e0eb</td>\n",
       "      <td>Flipkart SmartBuy MH01 - MultiPurpose Mobile C...</td>\n",
       "      <td>184</td>\n",
       "      <td>239</td>\n",
       "      <td>1</td>\n",
       "      <td>239</td>\n",
       "    </tr>\n",
       "  </tbody>\n",
       "</table>\n",
       "<p>219403 rows × 8 columns</p>\n",
       "</div>"
      ],
      "text/plain": [
       "             Date      Category                                SaleID  \\\n",
       "0        4/1/2022    Appliances  8e8205ee-e7f5-11ed-b086-f48c5055e0eb   \n",
       "1        4/1/2022    Appliances  8e8205ef-e7f5-11ed-bc85-f48c5055e0eb   \n",
       "2        4/1/2022    Appliances  8e8205f0-e7f5-11ed-acb3-f48c5055e0eb   \n",
       "3        4/1/2022    Appliances  8e8205f1-e7f5-11ed-84e4-f48c5055e0eb   \n",
       "4        4/1/2022    Appliances  8e8205f2-e7f5-11ed-aa61-f48c5055e0eb   \n",
       "...           ...           ...                                   ...   \n",
       "219398  3/31/2023  Mobile_stand  92869de4-e7f5-11ed-942b-f48c5055e0eb   \n",
       "219399  3/31/2023  Mobile_stand  92869de5-e7f5-11ed-b091-f48c5055e0eb   \n",
       "219400  3/31/2023  Mobile_stand  92869de6-e7f5-11ed-9c61-f48c5055e0eb   \n",
       "219401  3/31/2023  Mobile_stand  92869de7-e7f5-11ed-bd38-f48c5055e0eb   \n",
       "219402  3/31/2023  Mobile_stand  92869de8-e7f5-11ed-9388-f48c5055e0eb   \n",
       "\n",
       "                                              ProductName  ProductID Price  \\\n",
       "0                      Duracell Chhota Power AA?Batteries        133    95   \n",
       "1                   Kajafa Multifunctional Juicer - 400 W        265  1550   \n",
       "2                            Usha IH2410 Immersion Heater        563   650   \n",
       "3                       Eureka Super Clean Vacuum Cleaner        158  3599   \n",
       "4                GM Air MT Electric Ceiling Fan - 1200 mm        208  1799   \n",
       "...                                                   ...        ...   ...   \n",
       "219398  ELV Aluminum Adjustable Foldable Stand for All...        151   289   \n",
       "219399   MADPAIR Invisible Mobile Kickstand Mobile Holder        325   199   \n",
       "219400  Flipkart SmartBuy NextGen Multi Angle Mobile S...        185   170   \n",
       "219401  Techvor Universal Mobile Holder Metal Mobile s...        508   159   \n",
       "219402  Flipkart SmartBuy MH01 - MultiPurpose Mobile C...        184   239   \n",
       "\n",
       "        Quantity  TotalPrice  \n",
       "0              4         380  \n",
       "1              8       12400  \n",
       "2              5        3250  \n",
       "3              4       14396  \n",
       "4              5        8995  \n",
       "...          ...         ...  \n",
       "219398         1         289  \n",
       "219399         5         995  \n",
       "219400         1         170  \n",
       "219401         1         159  \n",
       "219402         1         239  \n",
       "\n",
       "[219403 rows x 8 columns]"
      ]
     },
     "execution_count": 40,
     "metadata": {},
     "output_type": "execute_result"
    }
   ],
   "source": [
    "sales_data = pd.read_csv(\"Product_sales_dataset.csv\")\n",
    "sales_data"
   ]
  },
  {
   "cell_type": "code",
   "execution_count": 41,
   "metadata": {},
   "outputs": [],
   "source": [
    "# # If you want to get data from ADW in Oracle you can use the following script\n",
    "# # If you are using Wallet file, provide the zip file path for `wallet_location`\n",
    "# # user name and password are from when you created ADW\n",
    "# connection_parameters = {\n",
    "#     \"user_name\": \"<ADW username>\",\n",
    "#     \"password\": \"<ADW password>\",\n",
    "#     \"service_name\": \"<ADW service name>\",\n",
    "#     \"wallet_location\": \"<wallet_name.zip>\",\n",
    "# }\n",
    "# import pandas as pd\n",
    "# import ads\n",
    "\n",
    "# # simple read of a SQL query into a dataframe with no bind variables\n",
    "# df = pd.DataFrame.ads.read_sql(\n",
    "#     \"SELECT * FROM <table_name>\",\n",
    "#     connection_parameters=connection_parameters,\n",
    "# )\n",
    "\n",
    "# df.head(5)"
   ]
  },
  {
   "cell_type": "markdown",
   "metadata": {
    "id": "P8-OzvN0-pcb"
   },
   "source": [
    "# Exploratory Data Analysis (EDA)"
   ]
  },
  {
   "cell_type": "code",
   "execution_count": 42,
   "metadata": {},
   "outputs": [
    {
     "name": "stdout",
     "output_type": "stream",
     "text": [
      "<class 'pandas.core.frame.DataFrame'>\n",
      "RangeIndex: 219403 entries, 0 to 219402\n",
      "Data columns (total 8 columns):\n",
      " #   Column       Non-Null Count   Dtype \n",
      "---  ------       --------------   ----- \n",
      " 0   Date         219403 non-null  object\n",
      " 1   Category     219403 non-null  object\n",
      " 2   SaleID       219403 non-null  object\n",
      " 3   ProductName  219403 non-null  object\n",
      " 4   ProductID    219403 non-null  int64 \n",
      " 5   Price        219403 non-null  object\n",
      " 6   Quantity     219403 non-null  int64 \n",
      " 7   TotalPrice   219403 non-null  int64 \n",
      "dtypes: int64(3), object(5)\n",
      "memory usage: 13.4+ MB\n"
     ]
    }
   ],
   "source": [
    "sales_data.info()"
   ]
  },
  {
   "cell_type": "code",
   "execution_count": 43,
   "metadata": {
    "colab": {
     "base_uri": "https://localhost:8080/"
    },
    "executionInfo": {
     "elapsed": 13,
     "status": "ok",
     "timestamp": 1683545505219,
     "user": {
      "displayName": "venkat ekkuluri",
      "userId": "14014234653489302162"
     },
     "user_tz": -330
    },
    "id": "jH573OwP-sxs",
    "outputId": "372b3f3e-c97d-4b2c-8589-f90e45791079"
   },
   "outputs": [
    {
     "data": {
      "text/plain": [
       "0"
      ]
     },
     "execution_count": 43,
     "metadata": {},
     "output_type": "execute_result"
    }
   ],
   "source": [
    "# Checking null and duplicated values\n",
    "sales_data.isnull().sum()\n",
    "sales_data.duplicated().sum()"
   ]
  },
  {
   "cell_type": "code",
   "execution_count": 44,
   "metadata": {},
   "outputs": [
    {
     "name": "stdout",
     "output_type": "stream",
     "text": [
      "1/1/2023\n",
      "9/9/2022\n"
     ]
    }
   ],
   "source": [
    "# Checking the Date range for data:\n",
    "print(sales_data.Date.min())\n",
    "print(sales_data.Date.max())"
   ]
  },
  {
   "cell_type": "code",
   "execution_count": 45,
   "metadata": {
    "id": "FaUYL-gkIE1W"
   },
   "outputs": [
    {
     "data": {
      "text/html": [
       "<div>\n",
       "<style scoped>\n",
       "    .dataframe tbody tr th:only-of-type {\n",
       "        vertical-align: middle;\n",
       "    }\n",
       "\n",
       "    .dataframe tbody tr th {\n",
       "        vertical-align: top;\n",
       "    }\n",
       "\n",
       "    .dataframe thead th {\n",
       "        text-align: right;\n",
       "    }\n",
       "</style>\n",
       "<table border=\"1\" class=\"dataframe\">\n",
       "  <thead>\n",
       "    <tr style=\"text-align: right;\">\n",
       "      <th></th>\n",
       "      <th>Date</th>\n",
       "      <th>Category</th>\n",
       "      <th>SaleID</th>\n",
       "      <th>ProductName</th>\n",
       "      <th>ProductID</th>\n",
       "      <th>Price</th>\n",
       "      <th>Quantity</th>\n",
       "      <th>TotalPrice</th>\n",
       "      <th>Year</th>\n",
       "      <th>Month</th>\n",
       "    </tr>\n",
       "  </thead>\n",
       "  <tbody>\n",
       "    <tr>\n",
       "      <th>0</th>\n",
       "      <td>2022-04-01</td>\n",
       "      <td>Appliances</td>\n",
       "      <td>8e8205ee-e7f5-11ed-b086-f48c5055e0eb</td>\n",
       "      <td>Duracell Chhota Power AA?Batteries</td>\n",
       "      <td>133</td>\n",
       "      <td>95</td>\n",
       "      <td>4</td>\n",
       "      <td>380</td>\n",
       "      <td>2022</td>\n",
       "      <td>4</td>\n",
       "    </tr>\n",
       "    <tr>\n",
       "      <th>1</th>\n",
       "      <td>2022-04-01</td>\n",
       "      <td>Appliances</td>\n",
       "      <td>8e8205ef-e7f5-11ed-bc85-f48c5055e0eb</td>\n",
       "      <td>Kajafa Multifunctional Juicer - 400 W</td>\n",
       "      <td>265</td>\n",
       "      <td>1550</td>\n",
       "      <td>8</td>\n",
       "      <td>12400</td>\n",
       "      <td>2022</td>\n",
       "      <td>4</td>\n",
       "    </tr>\n",
       "    <tr>\n",
       "      <th>2</th>\n",
       "      <td>2022-04-01</td>\n",
       "      <td>Appliances</td>\n",
       "      <td>8e8205f0-e7f5-11ed-acb3-f48c5055e0eb</td>\n",
       "      <td>Usha IH2410 Immersion Heater</td>\n",
       "      <td>563</td>\n",
       "      <td>650</td>\n",
       "      <td>5</td>\n",
       "      <td>3250</td>\n",
       "      <td>2022</td>\n",
       "      <td>4</td>\n",
       "    </tr>\n",
       "    <tr>\n",
       "      <th>3</th>\n",
       "      <td>2022-04-01</td>\n",
       "      <td>Appliances</td>\n",
       "      <td>8e8205f1-e7f5-11ed-84e4-f48c5055e0eb</td>\n",
       "      <td>Eureka Super Clean Vacuum Cleaner</td>\n",
       "      <td>158</td>\n",
       "      <td>3599</td>\n",
       "      <td>4</td>\n",
       "      <td>14396</td>\n",
       "      <td>2022</td>\n",
       "      <td>4</td>\n",
       "    </tr>\n",
       "    <tr>\n",
       "      <th>4</th>\n",
       "      <td>2022-04-01</td>\n",
       "      <td>Appliances</td>\n",
       "      <td>8e8205f2-e7f5-11ed-aa61-f48c5055e0eb</td>\n",
       "      <td>GM Air MT Electric Ceiling Fan - 1200 mm</td>\n",
       "      <td>208</td>\n",
       "      <td>1799</td>\n",
       "      <td>5</td>\n",
       "      <td>8995</td>\n",
       "      <td>2022</td>\n",
       "      <td>4</td>\n",
       "    </tr>\n",
       "  </tbody>\n",
       "</table>\n",
       "</div>"
      ],
      "text/plain": [
       "        Date    Category                                SaleID  \\\n",
       "0 2022-04-01  Appliances  8e8205ee-e7f5-11ed-b086-f48c5055e0eb   \n",
       "1 2022-04-01  Appliances  8e8205ef-e7f5-11ed-bc85-f48c5055e0eb   \n",
       "2 2022-04-01  Appliances  8e8205f0-e7f5-11ed-acb3-f48c5055e0eb   \n",
       "3 2022-04-01  Appliances  8e8205f1-e7f5-11ed-84e4-f48c5055e0eb   \n",
       "4 2022-04-01  Appliances  8e8205f2-e7f5-11ed-aa61-f48c5055e0eb   \n",
       "\n",
       "                                ProductName  ProductID Price  Quantity  \\\n",
       "0        Duracell Chhota Power AA?Batteries        133    95         4   \n",
       "1     Kajafa Multifunctional Juicer - 400 W        265  1550         8   \n",
       "2              Usha IH2410 Immersion Heater        563   650         5   \n",
       "3         Eureka Super Clean Vacuum Cleaner        158  3599         4   \n",
       "4  GM Air MT Electric Ceiling Fan - 1200 mm        208  1799         5   \n",
       "\n",
       "   TotalPrice  Year  Month  \n",
       "0         380  2022      4  \n",
       "1       12400  2022      4  \n",
       "2        3250  2022      4  \n",
       "3       14396  2022      4  \n",
       "4        8995  2022      4  "
      ]
     },
     "execution_count": 45,
     "metadata": {},
     "output_type": "execute_result"
    }
   ],
   "source": [
    "# Converting Date from object to Datetime datatype\n",
    "sales_data['Date'] = pd.to_datetime(sales_data['Date'])\n",
    "\n",
    "# Adding Year and Month columns based on Date as regression models does not work on Date Datatype\n",
    "sales_data['Year'] = sales_data['Date'].dt.year\n",
    "sales_data['Month'] = sales_data['Date'].dt.month\n",
    "sales_data.head()"
   ]
  },
  {
   "cell_type": "code",
   "execution_count": 46,
   "metadata": {
    "id": "cjUtEgpLImvB"
   },
   "outputs": [],
   "source": [
    "# Convert TotalPrice and Price columns to float type after removing commas\n",
    "sales_data['TotalPrice'] = sales_data['TotalPrice'].astype(str).str.replace(',', '').astype(float)\n",
    "sales_data['Price'] = sales_data['Price'].astype(str).str.replace(',', '').astype(float)"
   ]
  },
  {
   "cell_type": "code",
   "execution_count": 47,
   "metadata": {},
   "outputs": [
    {
     "data": {
      "image/png": "[encoded data removed]",
      "text/plain": [
       "<Figure size 1000x800 with 2 Axes>"
      ]
     },
     "metadata": {},
     "output_type": "display_data"
    }
   ],
   "source": [
    "columns_of_interest = ['ProductID','Month', 'Year', 'Quantity', 'Price', 'TotalPrice']\n",
    "\n",
    "subset_df = sales_data[columns_of_interest]\n",
    "correlation_matrix = subset_df.corr()\n",
    "\n",
    "# Create a heatmap\n",
    "plt.figure(figsize=(10, 8))\n",
    "sns.heatmap(correlation_matrix, annot=True, cmap='coolwarm', fmt=\".2f\", linewidths=.5)\n",
    "plt.title('Correlation Heatmap')\n",
    "plt.show()"
   ]
  },
  {
   "cell_type": "markdown",
   "metadata": {},
   "source": [
    "# Starting Model Building"
   ]
  },
  {
   "cell_type": "code",
   "execution_count": 48,
   "metadata": {
    "id": "4ffJ5oBTI-v1"
   },
   "outputs": [
    {
     "data": {
      "text/html": [
       "<div>\n",
       "<style scoped>\n",
       "    .dataframe tbody tr th:only-of-type {\n",
       "        vertical-align: middle;\n",
       "    }\n",
       "\n",
       "    .dataframe tbody tr th {\n",
       "        vertical-align: top;\n",
       "    }\n",
       "\n",
       "    .dataframe thead th {\n",
       "        text-align: right;\n",
       "    }\n",
       "</style>\n",
       "<table border=\"1\" class=\"dataframe\">\n",
       "  <thead>\n",
       "    <tr style=\"text-align: right;\">\n",
       "      <th></th>\n",
       "      <th>Year</th>\n",
       "      <th>Month</th>\n",
       "      <th>ProductID</th>\n",
       "      <th>Price</th>\n",
       "      <th>TotalPrice</th>\n",
       "    </tr>\n",
       "  </thead>\n",
       "  <tbody>\n",
       "    <tr>\n",
       "      <th>0</th>\n",
       "      <td>2022</td>\n",
       "      <td>4</td>\n",
       "      <td>1</td>\n",
       "      <td>1749.0</td>\n",
       "      <td>118932.0</td>\n",
       "    </tr>\n",
       "    <tr>\n",
       "      <th>1</th>\n",
       "      <td>2022</td>\n",
       "      <td>4</td>\n",
       "      <td>2</td>\n",
       "      <td>1129.0</td>\n",
       "      <td>74514.0</td>\n",
       "    </tr>\n",
       "    <tr>\n",
       "      <th>2</th>\n",
       "      <td>2022</td>\n",
       "      <td>4</td>\n",
       "      <td>3</td>\n",
       "      <td>1129.0</td>\n",
       "      <td>94836.0</td>\n",
       "    </tr>\n",
       "    <tr>\n",
       "      <th>3</th>\n",
       "      <td>2022</td>\n",
       "      <td>4</td>\n",
       "      <td>4</td>\n",
       "      <td>1129.0</td>\n",
       "      <td>68869.0</td>\n",
       "    </tr>\n",
       "    <tr>\n",
       "      <th>4</th>\n",
       "      <td>2022</td>\n",
       "      <td>4</td>\n",
       "      <td>5</td>\n",
       "      <td>1129.0</td>\n",
       "      <td>62095.0</td>\n",
       "    </tr>\n",
       "    <tr>\n",
       "      <th>...</th>\n",
       "      <td>...</td>\n",
       "      <td>...</td>\n",
       "      <td>...</td>\n",
       "      <td>...</td>\n",
       "      <td>...</td>\n",
       "    </tr>\n",
       "    <tr>\n",
       "      <th>7579</th>\n",
       "      <td>2023</td>\n",
       "      <td>3</td>\n",
       "      <td>628</td>\n",
       "      <td>489.0</td>\n",
       "      <td>107091.0</td>\n",
       "    </tr>\n",
       "    <tr>\n",
       "      <th>7580</th>\n",
       "      <td>2023</td>\n",
       "      <td>3</td>\n",
       "      <td>629</td>\n",
       "      <td>499.0</td>\n",
       "      <td>89820.0</td>\n",
       "    </tr>\n",
       "    <tr>\n",
       "      <th>7581</th>\n",
       "      <td>2023</td>\n",
       "      <td>3</td>\n",
       "      <td>630</td>\n",
       "      <td>449.0</td>\n",
       "      <td>74534.0</td>\n",
       "    </tr>\n",
       "    <tr>\n",
       "      <th>7582</th>\n",
       "      <td>2023</td>\n",
       "      <td>3</td>\n",
       "      <td>631</td>\n",
       "      <td>542.0</td>\n",
       "      <td>62872.0</td>\n",
       "    </tr>\n",
       "    <tr>\n",
       "      <th>7583</th>\n",
       "      <td>2023</td>\n",
       "      <td>3</td>\n",
       "      <td>632</td>\n",
       "      <td>414.0</td>\n",
       "      <td>54648.0</td>\n",
       "    </tr>\n",
       "  </tbody>\n",
       "</table>\n",
       "<p>7584 rows × 5 columns</p>\n",
       "</div>"
      ],
      "text/plain": [
       "      Year  Month  ProductID   Price  TotalPrice\n",
       "0     2022      4          1  1749.0    118932.0\n",
       "1     2022      4          2  1129.0     74514.0\n",
       "2     2022      4          3  1129.0     94836.0\n",
       "3     2022      4          4  1129.0     68869.0\n",
       "4     2022      4          5  1129.0     62095.0\n",
       "...    ...    ...        ...     ...         ...\n",
       "7579  2023      3        628   489.0    107091.0\n",
       "7580  2023      3        629   499.0     89820.0\n",
       "7581  2023      3        630   449.0     74534.0\n",
       "7582  2023      3        631   542.0     62872.0\n",
       "7583  2023      3        632   414.0     54648.0\n",
       "\n",
       "[7584 rows x 5 columns]"
      ]
     },
     "execution_count": 48,
     "metadata": {},
     "output_type": "execute_result"
    }
   ],
   "source": [
    "# Grouping data to get monthly sales\n",
    "data = sales_data.groupby(['Year','Month','ProductID','Price'])\n",
    "monthly_grouped_df = data['TotalPrice'].sum().reset_index()\n",
    "monthly_grouped_df"
   ]
  },
  {
   "cell_type": "code",
   "execution_count": 49,
   "metadata": {
    "id": "uwijTvVBJIz1"
   },
   "outputs": [],
   "source": [
    "# making dataframe for features and targate variable\n",
    "x = monthly_grouped_df[['Year','Month','ProductID','Price']]\n",
    "y = monthly_grouped_df['TotalPrice']"
   ]
  },
  {
   "cell_type": "code",
   "execution_count": 50,
   "metadata": {
    "colab": {
     "base_uri": "https://localhost:8080/",
     "height": 424
    },
    "executionInfo": {
     "elapsed": 598,
     "status": "ok",
     "timestamp": 1683549917049,
     "user": {
      "displayName": "venkat ekkuluri",
      "userId": "14014234653489302162"
     },
     "user_tz": -330
    },
    "id": "H9To91BoOIXe",
    "outputId": "8a9695cd-5e69-4278-9f7b-429687456ba9"
   },
   "outputs": [
    {
     "data": {
      "text/html": [
       "<div>\n",
       "<style scoped>\n",
       "    .dataframe tbody tr th:only-of-type {\n",
       "        vertical-align: middle;\n",
       "    }\n",
       "\n",
       "    .dataframe tbody tr th {\n",
       "        vertical-align: top;\n",
       "    }\n",
       "\n",
       "    .dataframe thead th {\n",
       "        text-align: right;\n",
       "    }\n",
       "</style>\n",
       "<table border=\"1\" class=\"dataframe\">\n",
       "  <thead>\n",
       "    <tr style=\"text-align: right;\">\n",
       "      <th></th>\n",
       "      <th>Year</th>\n",
       "      <th>Month</th>\n",
       "      <th>ProductID</th>\n",
       "      <th>Price</th>\n",
       "    </tr>\n",
       "  </thead>\n",
       "  <tbody>\n",
       "    <tr>\n",
       "      <th>0</th>\n",
       "      <td>2022</td>\n",
       "      <td>4</td>\n",
       "      <td>1</td>\n",
       "      <td>1749.0</td>\n",
       "    </tr>\n",
       "    <tr>\n",
       "      <th>1</th>\n",
       "      <td>2022</td>\n",
       "      <td>4</td>\n",
       "      <td>2</td>\n",
       "      <td>1129.0</td>\n",
       "    </tr>\n",
       "    <tr>\n",
       "      <th>2</th>\n",
       "      <td>2022</td>\n",
       "      <td>4</td>\n",
       "      <td>3</td>\n",
       "      <td>1129.0</td>\n",
       "    </tr>\n",
       "    <tr>\n",
       "      <th>3</th>\n",
       "      <td>2022</td>\n",
       "      <td>4</td>\n",
       "      <td>4</td>\n",
       "      <td>1129.0</td>\n",
       "    </tr>\n",
       "    <tr>\n",
       "      <th>4</th>\n",
       "      <td>2022</td>\n",
       "      <td>4</td>\n",
       "      <td>5</td>\n",
       "      <td>1129.0</td>\n",
       "    </tr>\n",
       "    <tr>\n",
       "      <th>...</th>\n",
       "      <td>...</td>\n",
       "      <td>...</td>\n",
       "      <td>...</td>\n",
       "      <td>...</td>\n",
       "    </tr>\n",
       "    <tr>\n",
       "      <th>7579</th>\n",
       "      <td>2023</td>\n",
       "      <td>3</td>\n",
       "      <td>628</td>\n",
       "      <td>489.0</td>\n",
       "    </tr>\n",
       "    <tr>\n",
       "      <th>7580</th>\n",
       "      <td>2023</td>\n",
       "      <td>3</td>\n",
       "      <td>629</td>\n",
       "      <td>499.0</td>\n",
       "    </tr>\n",
       "    <tr>\n",
       "      <th>7581</th>\n",
       "      <td>2023</td>\n",
       "      <td>3</td>\n",
       "      <td>630</td>\n",
       "      <td>449.0</td>\n",
       "    </tr>\n",
       "    <tr>\n",
       "      <th>7582</th>\n",
       "      <td>2023</td>\n",
       "      <td>3</td>\n",
       "      <td>631</td>\n",
       "      <td>542.0</td>\n",
       "    </tr>\n",
       "    <tr>\n",
       "      <th>7583</th>\n",
       "      <td>2023</td>\n",
       "      <td>3</td>\n",
       "      <td>632</td>\n",
       "      <td>414.0</td>\n",
       "    </tr>\n",
       "  </tbody>\n",
       "</table>\n",
       "<p>7584 rows × 4 columns</p>\n",
       "</div>"
      ],
      "text/plain": [
       "      Year  Month  ProductID   Price\n",
       "0     2022      4          1  1749.0\n",
       "1     2022      4          2  1129.0\n",
       "2     2022      4          3  1129.0\n",
       "3     2022      4          4  1129.0\n",
       "4     2022      4          5  1129.0\n",
       "...    ...    ...        ...     ...\n",
       "7579  2023      3        628   489.0\n",
       "7580  2023      3        629   499.0\n",
       "7581  2023      3        630   449.0\n",
       "7582  2023      3        631   542.0\n",
       "7583  2023      3        632   414.0\n",
       "\n",
       "[7584 rows x 4 columns]"
      ]
     },
     "execution_count": 50,
     "metadata": {},
     "output_type": "execute_result"
    }
   ],
   "source": [
    "x"
   ]
  },
  {
   "cell_type": "code",
   "execution_count": 51,
   "metadata": {
    "id": "BUuPKZUhJTRN"
   },
   "outputs": [],
   "source": [
    "# Splitting data in to test and train\n",
    "x_train, x_test, y_train, y_test = train_test_split(x, y, test_size=0.3, random_state=35)"
   ]
  },
  {
   "cell_type": "code",
   "execution_count": 52,
   "metadata": {
    "colab": {
     "base_uri": "https://localhost:8080/",
     "height": 248
    },
    "executionInfo": {
     "elapsed": 1224,
     "status": "ok",
     "timestamp": 1683547056973,
     "user": {
      "displayName": "venkat ekkuluri",
      "userId": "14014234653489302162"
     },
     "user_tz": -330
    },
    "id": "-O6rOaZzJXfl",
    "outputId": "712732eb-eb35-4c3d-97ec-440f691f997e"
   },
   "outputs": [
    {
     "data": {
      "text/html": [
       "<style>#sk-container-id-3 {color: black;}#sk-container-id-3 pre{padding: 0;}#sk-container-id-3 div.sk-toggleable {background-color: white;}#sk-container-id-3 label.sk-toggleable__label {cursor: pointer;display: block;width: 100%;margin-bottom: 0;padding: 0.3em;box-sizing: border-box;text-align: center;}#sk-container-id-3 label.sk-toggleable__label-arrow:before {content: \"▸\";float: left;margin-right: 0.25em;color: #696969;}#sk-container-id-3 label.sk-toggleable__label-arrow:hover:before {color: black;}#sk-container-id-3 div.sk-estimator:hover label.sk-toggleable__label-arrow:before {color: black;}#sk-container-id-3 div.sk-toggleable__content {max-height: 0;max-width: 0;overflow: hidden;text-align: left;background-color: #f0f8ff;}#sk-container-id-3 div.sk-toggleable__content pre {margin: 0.2em;color: black;border-radius: 0.25em;background-color: #f0f8ff;}#sk-container-id-3 input.sk-toggleable__control:checked~div.sk-toggleable__content {max-height: 200px;max-width: 100%;overflow: auto;}#sk-container-id-3 input.sk-toggleable__control:checked~label.sk-toggleable__label-arrow:before {content: \"▾\";}#sk-container-id-3 div.sk-estimator input.sk-toggleable__control:checked~label.sk-toggleable__label {background-color: #d4ebff;}#sk-container-id-3 div.sk-label input.sk-toggleable__control:checked~label.sk-toggleable__label {background-color: #d4ebff;}#sk-container-id-3 input.sk-hidden--visually {border: 0;clip: rect(1px 1px 1px 1px);clip: rect(1px, 1px, 1px, 1px);height: 1px;margin: -1px;overflow: hidden;padding: 0;position: absolute;width: 1px;}#sk-container-id-3 div.sk-estimator {font-family: monospace;background-color: #f0f8ff;border: 1px dotted black;border-radius: 0.25em;box-sizing: border-box;margin-bottom: 0.5em;}#sk-container-id-3 div.sk-estimator:hover {background-color: #d4ebff;}#sk-container-id-3 div.sk-parallel-item::after {content: \"\";width: 100%;border-bottom: 1px solid gray;flex-grow: 1;}#sk-container-id-3 div.sk-label:hover label.sk-toggleable__label {background-color: #d4ebff;}#sk-container-id-3 div.sk-serial::before {content: \"\";position: absolute;border-left: 1px solid gray;box-sizing: border-box;top: 0;bottom: 0;left: 50%;z-index: 0;}#sk-container-id-3 div.sk-serial {display: flex;flex-direction: column;align-items: center;background-color: white;padding-right: 0.2em;padding-left: 0.2em;position: relative;}#sk-container-id-3 div.sk-item {position: relative;z-index: 1;}#sk-container-id-3 div.sk-parallel {display: flex;align-items: stretch;justify-content: center;background-color: white;position: relative;}#sk-container-id-3 div.sk-item::before, #sk-container-id-3 div.sk-parallel-item::before {content: \"\";position: absolute;border-left: 1px solid gray;box-sizing: border-box;top: 0;bottom: 0;left: 50%;z-index: -1;}#sk-container-id-3 div.sk-parallel-item {display: flex;flex-direction: column;z-index: 1;position: relative;background-color: white;}#sk-container-id-3 div.sk-parallel-item:first-child::after {align-self: flex-end;width: 50%;}#sk-container-id-3 div.sk-parallel-item:last-child::after {align-self: flex-start;width: 50%;}#sk-container-id-3 div.sk-parallel-item:only-child::after {width: 0;}#sk-container-id-3 div.sk-dashed-wrapped {border: 1px dashed gray;margin: 0 0.4em 0.5em 0.4em;box-sizing: border-box;padding-bottom: 0.4em;background-color: white;}#sk-container-id-3 div.sk-label label {font-family: monospace;font-weight: bold;display: inline-block;line-height: 1.2em;}#sk-container-id-3 div.sk-label-container {text-align: center;}#sk-container-id-3 div.sk-container {/* jupyter's `normalize.less` sets `[hidden] { display: none; }` but bootstrap.min.css set `[hidden] { display: none !important; }` so we also need the `!important` here to be able to override the default hidden behavior on the sphinx rendered scikit-learn.org. See: https://github.com/scikit-learn/scikit-learn/issues/21755 */display: inline-block !important;position: relative;}#sk-container-id-3 div.sk-text-repr-fallback {display: none;}</style><div id=\"sk-container-id-3\" class=\"sk-top-container\"><div class=\"sk-text-repr-fallback\"><pre>XGBRegressor(base_score=None, booster=None, callbacks=None,\n",
       "             colsample_bylevel=None, colsample_bynode=None,\n",
       "             colsample_bytree=0.6, device=None, early_stopping_rounds=None,\n",
       "             enable_categorical=False, eval_metric=None, feature_types=None,\n",
       "             gamma=0, grow_policy=None, importance_type=None,\n",
       "             interaction_constraints=None, learning_rate=None, max_bin=None,\n",
       "             max_cat_threshold=None, max_cat_to_onehot=None,\n",
       "             max_delta_step=None, max_depth=4, max_leaves=None,\n",
       "             min_child_weight=1, missing=nan, monotone_constraints=None,\n",
       "             multi_strategy=None, n_estimators=None, n_jobs=None,\n",
       "             num_parallel_tree=None, random_state=None, ...)</pre><b>In a Jupyter environment, please rerun this cell to show the HTML representation or trust the notebook. <br />On GitHub, the HTML representation is unable to render, please try loading this page with nbviewer.org.</b></div><div class=\"sk-container\" hidden><div class=\"sk-item\"><div class=\"sk-estimator sk-toggleable\"><input class=\"sk-toggleable__control sk-hidden--visually\" id=\"sk-estimator-id-3\" type=\"checkbox\" checked><label for=\"sk-estimator-id-3\" class=\"sk-toggleable__label sk-toggleable__label-arrow\">XGBRegressor</label><div class=\"sk-toggleable__content\"><pre>XGBRegressor(base_score=None, booster=None, callbacks=None,\n",
       "             colsample_bylevel=None, colsample_bynode=None,\n",
       "             colsample_bytree=0.6, device=None, early_stopping_rounds=None,\n",
       "             enable_categorical=False, eval_metric=None, feature_types=None,\n",
       "             gamma=0, grow_policy=None, importance_type=None,\n",
       "             interaction_constraints=None, learning_rate=None, max_bin=None,\n",
       "             max_cat_threshold=None, max_cat_to_onehot=None,\n",
       "             max_delta_step=None, max_depth=4, max_leaves=None,\n",
       "             min_child_weight=1, missing=nan, monotone_constraints=None,\n",
       "             multi_strategy=None, n_estimators=None, n_jobs=None,\n",
       "             num_parallel_tree=None, random_state=None, ...)</pre></div></div></div></div></div>"
      ],
      "text/plain": [
       "XGBRegressor(base_score=None, booster=None, callbacks=None,\n",
       "             colsample_bylevel=None, colsample_bynode=None,\n",
       "             colsample_bytree=0.6, device=None, early_stopping_rounds=None,\n",
       "             enable_categorical=False, eval_metric=None, feature_types=None,\n",
       "             gamma=0, grow_policy=None, importance_type=None,\n",
       "             interaction_constraints=None, learning_rate=None, max_bin=None,\n",
       "             max_cat_threshold=None, max_cat_to_onehot=None,\n",
       "             max_delta_step=None, max_depth=4, max_leaves=None,\n",
       "             min_child_weight=1, missing=nan, monotone_constraints=None,\n",
       "             multi_strategy=None, n_estimators=None, n_jobs=None,\n",
       "             num_parallel_tree=None, random_state=None, ...)"
      ]
     },
     "execution_count": 52,
     "metadata": {},
     "output_type": "execute_result"
    }
   ],
   "source": [
    "# Using XG Boost model for prediction\n",
    "model =  xgb.XGBRegressor(\n",
    "    max_depth=4, \n",
    "    min_child_weight=1, \n",
    "    gamma=0, \n",
    "    subsample=0.8, \n",
    "    colsample_bytree=0.6, \n",
    "    reg_alpha=0.1, \n",
    "    reg_lambda=0.1\n",
    ")\n",
    "model.fit(x_train, y_train)"
   ]
  },
  {
   "cell_type": "markdown",
   "metadata": {
    "id": "uWXOmWkKJjBf"
   },
   "source": [
    "Model Accuracy"
   ]
  },
  {
   "cell_type": "code",
   "execution_count": 53,
   "metadata": {
    "colab": {
     "base_uri": "https://localhost:8080/"
    },
    "executionInfo": {
     "elapsed": 841,
     "status": "ok",
     "timestamp": 1683547059657,
     "user": {
      "displayName": "venkat ekkuluri",
      "userId": "14014234653489302162"
     },
     "user_tz": -330
    },
    "id": "U3X_1tE4Jkzf",
    "outputId": "17624e2f-172c-4c71-c4ef-9ee44e372516"
   },
   "outputs": [
    {
     "name": "stdout",
     "output_type": "stream",
     "text": [
      "R2 score on test data: 0.93\n"
     ]
    }
   ],
   "source": [
    "# cheking r2 score for our models accuracy\n",
    "y_pred = model.predict(x_test)\n",
    "r2 = r2_score(y_test, y_pred)\n",
    "print(f\"R2 score on test data: {r2:.2f}\")"
   ]
  },
  {
   "cell_type": "markdown",
   "metadata": {
    "id": "MvU1H9GgKF9m"
   },
   "source": [
    "Visualization"
   ]
  },
  {
   "cell_type": "code",
   "execution_count": 54,
   "metadata": {
    "colab": {
     "base_uri": "https://localhost:8080/",
     "height": 515
    },
    "executionInfo": {
     "elapsed": 17,
     "status": "ok",
     "timestamp": 1683545506717,
     "user": {
      "displayName": "venkat ekkuluri",
      "userId": "14014234653489302162"
     },
     "user_tz": -330
    },
    "id": "cZfnE2S_KR4t",
    "outputId": "ce5e045c-ea09-4b21-c2c1-87fa667107dc"
   },
   "outputs": [
    {
     "data": {
      "image/png": "[encoded data removed]",
      "text/plain": [
       "<Figure size 640x480 with 1 Axes>"
      ]
     },
     "metadata": {},
     "output_type": "display_data"
    }
   ],
   "source": [
    "sales_data['MonthYear'] = pd.to_datetime(sales_data['Date']).dt.to_period('M')\n",
    "monthly_sales = sales_data.groupby('MonthYear')['TotalPrice'].sum()\n",
    "\n",
    "plt.bar(monthly_sales.index.astype(str), monthly_sales.values)\n",
    "plt.title('Total Sales by Month and Year')\n",
    "plt.xlabel('Month and Year')\n",
    "plt.ylabel('Total Sales')\n",
    "plt.xticks(rotation=90)\n",
    "plt.show()"
   ]
  },
  {
   "cell_type": "code",
   "execution_count": 55,
   "metadata": {
    "colab": {
     "base_uri": "https://localhost:8080/",
     "height": 472
    },
    "executionInfo": {
     "elapsed": 1057,
     "status": "ok",
     "timestamp": 1683545507761,
     "user": {
      "displayName": "venkat ekkuluri",
      "userId": "14014234653489302162"
     },
     "user_tz": -330
    },
    "id": "yrJSTTlLKIRe",
    "outputId": "a7ab54ca-2e85-43c9-bf99-c894863d2ec7"
   },
   "outputs": [
    {
     "data": {
      "image/png": "[encoded data removed]",
      "text/plain": [
       "<Figure size 640x480 with 1 Axes>"
      ]
     },
     "metadata": {},
     "output_type": "display_data"
    }
   ],
   "source": [
    "# Visualize predicted vs. actual values\n",
    "plt.scatter(y_test, y_pred)\n",
    "plt.xlabel('Actual TotalPrice')\n",
    "plt.ylabel('Predicted TotalPrice')\n",
    "plt.title('Predicted vs. Actual TotalPrice')\n",
    "plt.show()"
   ]
  },
  {
   "cell_type": "markdown",
   "metadata": {
    "id": "ijShljYaK3jF"
   },
   "source": [
    "# Predicting the sales for next 6 month"
   ]
  },
  {
   "cell_type": "code",
   "execution_count": 64,
   "metadata": {
    "colab": {
     "base_uri": "https://localhost:8080/",
     "height": 424
    },
    "executionInfo": {
     "elapsed": 47,
     "status": "ok",
     "timestamp": 1683545507763,
     "user": {
      "displayName": "venkat ekkuluri",
      "userId": "14014234653489302162"
     },
     "user_tz": -330
    },
    "id": "B7MfiMpoK7bf",
    "outputId": "da5a4263-0713-4659-df77-1824c6cba8b3"
   },
   "outputs": [
    {
     "data": {
      "text/html": [
       "<div>\n",
       "<style scoped>\n",
       "    .dataframe tbody tr th:only-of-type {\n",
       "        vertical-align: middle;\n",
       "    }\n",
       "\n",
       "    .dataframe tbody tr th {\n",
       "        vertical-align: top;\n",
       "    }\n",
       "\n",
       "    .dataframe thead th {\n",
       "        text-align: right;\n",
       "    }\n",
       "</style>\n",
       "<table border=\"1\" class=\"dataframe\">\n",
       "  <thead>\n",
       "    <tr style=\"text-align: right;\">\n",
       "      <th></th>\n",
       "      <th>Year</th>\n",
       "      <th>Month</th>\n",
       "      <th>ProductID</th>\n",
       "      <th>Price</th>\n",
       "    </tr>\n",
       "  </thead>\n",
       "  <tbody>\n",
       "    <tr>\n",
       "      <th>0</th>\n",
       "      <td>2023</td>\n",
       "      <td>4</td>\n",
       "      <td>1</td>\n",
       "      <td>1749</td>\n",
       "    </tr>\n",
       "    <tr>\n",
       "      <th>1</th>\n",
       "      <td>2023</td>\n",
       "      <td>4</td>\n",
       "      <td>2</td>\n",
       "      <td>1129</td>\n",
       "    </tr>\n",
       "    <tr>\n",
       "      <th>2</th>\n",
       "      <td>2023</td>\n",
       "      <td>4</td>\n",
       "      <td>3</td>\n",
       "      <td>1129</td>\n",
       "    </tr>\n",
       "    <tr>\n",
       "      <th>3</th>\n",
       "      <td>2023</td>\n",
       "      <td>4</td>\n",
       "      <td>4</td>\n",
       "      <td>1129</td>\n",
       "    </tr>\n",
       "    <tr>\n",
       "      <th>4</th>\n",
       "      <td>2023</td>\n",
       "      <td>4</td>\n",
       "      <td>5</td>\n",
       "      <td>1129</td>\n",
       "    </tr>\n",
       "    <tr>\n",
       "      <th>...</th>\n",
       "      <td>...</td>\n",
       "      <td>...</td>\n",
       "      <td>...</td>\n",
       "      <td>...</td>\n",
       "    </tr>\n",
       "    <tr>\n",
       "      <th>3787</th>\n",
       "      <td>2023</td>\n",
       "      <td>9</td>\n",
       "      <td>628</td>\n",
       "      <td>489</td>\n",
       "    </tr>\n",
       "    <tr>\n",
       "      <th>3788</th>\n",
       "      <td>2023</td>\n",
       "      <td>9</td>\n",
       "      <td>629</td>\n",
       "      <td>499</td>\n",
       "    </tr>\n",
       "    <tr>\n",
       "      <th>3789</th>\n",
       "      <td>2023</td>\n",
       "      <td>9</td>\n",
       "      <td>630</td>\n",
       "      <td>449</td>\n",
       "    </tr>\n",
       "    <tr>\n",
       "      <th>3790</th>\n",
       "      <td>2023</td>\n",
       "      <td>9</td>\n",
       "      <td>631</td>\n",
       "      <td>542</td>\n",
       "    </tr>\n",
       "    <tr>\n",
       "      <th>3791</th>\n",
       "      <td>2023</td>\n",
       "      <td>9</td>\n",
       "      <td>632</td>\n",
       "      <td>414</td>\n",
       "    </tr>\n",
       "  </tbody>\n",
       "</table>\n",
       "<p>3792 rows × 4 columns</p>\n",
       "</div>"
      ],
      "text/plain": [
       "      Year  Month  ProductID  Price\n",
       "0     2023      4          1   1749\n",
       "1     2023      4          2   1129\n",
       "2     2023      4          3   1129\n",
       "3     2023      4          4   1129\n",
       "4     2023      4          5   1129\n",
       "...    ...    ...        ...    ...\n",
       "3787  2023      9        628    489\n",
       "3788  2023      9        629    499\n",
       "3789  2023      9        630    449\n",
       "3790  2023      9        631    542\n",
       "3791  2023      9        632    414\n",
       "\n",
       "[3792 rows x 4 columns]"
      ]
     },
     "execution_count": 64,
     "metadata": {},
     "output_type": "execute_result"
    }
   ],
   "source": [
    "# Reading the test data\n",
    "future_data = pd.read_csv(\"Test_data_next_6months.csv\")\n",
    "future_data"
   ]
  },
  {
   "cell_type": "code",
   "execution_count": 65,
   "metadata": {},
   "outputs": [
    {
     "data": {
      "text/html": [
       "<div>\n",
       "<style scoped>\n",
       "    .dataframe tbody tr th:only-of-type {\n",
       "        vertical-align: middle;\n",
       "    }\n",
       "\n",
       "    .dataframe tbody tr th {\n",
       "        vertical-align: top;\n",
       "    }\n",
       "\n",
       "    .dataframe thead th {\n",
       "        text-align: right;\n",
       "    }\n",
       "</style>\n",
       "<table border=\"1\" class=\"dataframe\">\n",
       "  <thead>\n",
       "    <tr style=\"text-align: right;\">\n",
       "      <th></th>\n",
       "      <th>0</th>\n",
       "    </tr>\n",
       "  </thead>\n",
       "  <tbody>\n",
       "    <tr>\n",
       "      <th>0</th>\n",
       "      <td>136905.359375</td>\n",
       "    </tr>\n",
       "    <tr>\n",
       "      <th>1</th>\n",
       "      <td>141601.593750</td>\n",
       "    </tr>\n",
       "    <tr>\n",
       "      <th>2</th>\n",
       "      <td>141601.593750</td>\n",
       "    </tr>\n",
       "    <tr>\n",
       "      <th>3</th>\n",
       "      <td>130626.304688</td>\n",
       "    </tr>\n",
       "    <tr>\n",
       "      <th>4</th>\n",
       "      <td>130626.304688</td>\n",
       "    </tr>\n",
       "    <tr>\n",
       "      <th>...</th>\n",
       "      <td>...</td>\n",
       "    </tr>\n",
       "    <tr>\n",
       "      <th>3787</th>\n",
       "      <td>91288.789062</td>\n",
       "    </tr>\n",
       "    <tr>\n",
       "      <th>3788</th>\n",
       "      <td>91288.789062</td>\n",
       "    </tr>\n",
       "    <tr>\n",
       "      <th>3789</th>\n",
       "      <td>91288.789062</td>\n",
       "    </tr>\n",
       "    <tr>\n",
       "      <th>3790</th>\n",
       "      <td>79713.343750</td>\n",
       "    </tr>\n",
       "    <tr>\n",
       "      <th>3791</th>\n",
       "      <td>80600.593750</td>\n",
       "    </tr>\n",
       "  </tbody>\n",
       "</table>\n",
       "<p>3792 rows × 1 columns</p>\n",
       "</div>"
      ],
      "text/plain": [
       "                  0\n",
       "0     136905.359375\n",
       "1     141601.593750\n",
       "2     141601.593750\n",
       "3     130626.304688\n",
       "4     130626.304688\n",
       "...             ...\n",
       "3787   91288.789062\n",
       "3788   91288.789062\n",
       "3789   91288.789062\n",
       "3790   79713.343750\n",
       "3791   80600.593750\n",
       "\n",
       "[3792 rows x 1 columns]"
      ]
     },
     "execution_count": 65,
     "metadata": {},
     "output_type": "execute_result"
    }
   ],
   "source": [
    "# Predicting sales using the model\n",
    "pred = model.predict(future_data)\n",
    "pred_data = pd.DataFrame(pred)\n",
    "pred_data"
   ]
  },
  {
   "cell_type": "code",
   "execution_count": 66,
   "metadata": {
    "colab": {
     "base_uri": "https://localhost:8080/",
     "height": 424
    },
    "executionInfo": {
     "elapsed": 45,
     "status": "ok",
     "timestamp": 1683545507764,
     "user": {
      "displayName": "venkat ekkuluri",
      "userId": "14014234653489302162"
     },
     "user_tz": -330
    },
    "id": "cAOAnAHvLmI6",
    "outputId": "c9db0ffe-ba0c-4635-e222-9a99681680e1"
   },
   "outputs": [
    {
     "data": {
      "text/html": [
       "<div>\n",
       "<style scoped>\n",
       "    .dataframe tbody tr th:only-of-type {\n",
       "        vertical-align: middle;\n",
       "    }\n",
       "\n",
       "    .dataframe tbody tr th {\n",
       "        vertical-align: top;\n",
       "    }\n",
       "\n",
       "    .dataframe thead th {\n",
       "        text-align: right;\n",
       "    }\n",
       "</style>\n",
       "<table border=\"1\" class=\"dataframe\">\n",
       "  <thead>\n",
       "    <tr style=\"text-align: right;\">\n",
       "      <th></th>\n",
       "      <th>Year</th>\n",
       "      <th>Month</th>\n",
       "      <th>ProductID</th>\n",
       "      <th>Price</th>\n",
       "      <th>TotalPrice</th>\n",
       "    </tr>\n",
       "  </thead>\n",
       "  <tbody>\n",
       "    <tr>\n",
       "      <th>0</th>\n",
       "      <td>2023</td>\n",
       "      <td>4</td>\n",
       "      <td>1</td>\n",
       "      <td>1749</td>\n",
       "      <td>136905.359375</td>\n",
       "    </tr>\n",
       "    <tr>\n",
       "      <th>1</th>\n",
       "      <td>2023</td>\n",
       "      <td>4</td>\n",
       "      <td>2</td>\n",
       "      <td>1129</td>\n",
       "      <td>141601.593750</td>\n",
       "    </tr>\n",
       "    <tr>\n",
       "      <th>2</th>\n",
       "      <td>2023</td>\n",
       "      <td>4</td>\n",
       "      <td>3</td>\n",
       "      <td>1129</td>\n",
       "      <td>141601.593750</td>\n",
       "    </tr>\n",
       "    <tr>\n",
       "      <th>3</th>\n",
       "      <td>2023</td>\n",
       "      <td>4</td>\n",
       "      <td>4</td>\n",
       "      <td>1129</td>\n",
       "      <td>130626.304688</td>\n",
       "    </tr>\n",
       "    <tr>\n",
       "      <th>4</th>\n",
       "      <td>2023</td>\n",
       "      <td>4</td>\n",
       "      <td>5</td>\n",
       "      <td>1129</td>\n",
       "      <td>130626.304688</td>\n",
       "    </tr>\n",
       "    <tr>\n",
       "      <th>...</th>\n",
       "      <td>...</td>\n",
       "      <td>...</td>\n",
       "      <td>...</td>\n",
       "      <td>...</td>\n",
       "      <td>...</td>\n",
       "    </tr>\n",
       "    <tr>\n",
       "      <th>3787</th>\n",
       "      <td>2023</td>\n",
       "      <td>9</td>\n",
       "      <td>628</td>\n",
       "      <td>489</td>\n",
       "      <td>91288.789062</td>\n",
       "    </tr>\n",
       "    <tr>\n",
       "      <th>3788</th>\n",
       "      <td>2023</td>\n",
       "      <td>9</td>\n",
       "      <td>629</td>\n",
       "      <td>499</td>\n",
       "      <td>91288.789062</td>\n",
       "    </tr>\n",
       "    <tr>\n",
       "      <th>3789</th>\n",
       "      <td>2023</td>\n",
       "      <td>9</td>\n",
       "      <td>630</td>\n",
       "      <td>449</td>\n",
       "      <td>91288.789062</td>\n",
       "    </tr>\n",
       "    <tr>\n",
       "      <th>3790</th>\n",
       "      <td>2023</td>\n",
       "      <td>9</td>\n",
       "      <td>631</td>\n",
       "      <td>542</td>\n",
       "      <td>79713.343750</td>\n",
       "    </tr>\n",
       "    <tr>\n",
       "      <th>3791</th>\n",
       "      <td>2023</td>\n",
       "      <td>9</td>\n",
       "      <td>632</td>\n",
       "      <td>414</td>\n",
       "      <td>80600.593750</td>\n",
       "    </tr>\n",
       "  </tbody>\n",
       "</table>\n",
       "<p>3792 rows × 5 columns</p>\n",
       "</div>"
      ],
      "text/plain": [
       "      Year  Month  ProductID  Price     TotalPrice\n",
       "0     2023      4          1   1749  136905.359375\n",
       "1     2023      4          2   1129  141601.593750\n",
       "2     2023      4          3   1129  141601.593750\n",
       "3     2023      4          4   1129  130626.304688\n",
       "4     2023      4          5   1129  130626.304688\n",
       "...    ...    ...        ...    ...            ...\n",
       "3787  2023      9        628    489   91288.789062\n",
       "3788  2023      9        629    499   91288.789062\n",
       "3789  2023      9        630    449   91288.789062\n",
       "3790  2023      9        631    542   79713.343750\n",
       "3791  2023      9        632    414   80600.593750\n",
       "\n",
       "[3792 rows x 5 columns]"
      ]
     },
     "execution_count": 66,
     "metadata": {},
     "output_type": "execute_result"
    }
   ],
   "source": [
    "# Concatnating the predicted column to the test dataset\n",
    "future_6month_pred = pd.concat([future_data,pred_data],axis=1)\n",
    "future_6month_pred.rename(columns={0:\"TotalPrice\"},inplace=True)\n",
    "future_6month_pred"
   ]
  },
  {
   "cell_type": "code",
   "execution_count": 67,
   "metadata": {
    "colab": {
     "base_uri": "https://localhost:8080/",
     "height": 426
    },
    "executionInfo": {
     "elapsed": 43,
     "status": "ok",
     "timestamp": 1683545507764,
     "user": {
      "displayName": "venkat ekkuluri",
      "userId": "14014234653489302162"
     },
     "user_tz": -330
    },
    "id": "3m2-wW3RMYP-",
    "outputId": "2959b21c-32f4-4269-aa9c-a46fec4f2cc2"
   },
   "outputs": [
    {
     "data": {
      "text/html": [
       "<div>\n",
       "<style scoped>\n",
       "    .dataframe tbody tr th:only-of-type {\n",
       "        vertical-align: middle;\n",
       "    }\n",
       "\n",
       "    .dataframe tbody tr th {\n",
       "        vertical-align: top;\n",
       "    }\n",
       "\n",
       "    .dataframe thead th {\n",
       "        text-align: right;\n",
       "    }\n",
       "</style>\n",
       "<table border=\"1\" class=\"dataframe\">\n",
       "  <thead>\n",
       "    <tr style=\"text-align: right;\">\n",
       "      <th></th>\n",
       "      <th>Year</th>\n",
       "      <th>Month</th>\n",
       "      <th>TotalPrice</th>\n",
       "      <th>Date</th>\n",
       "    </tr>\n",
       "  </thead>\n",
       "  <tbody>\n",
       "    <tr>\n",
       "      <th>0</th>\n",
       "      <td>2022</td>\n",
       "      <td>4</td>\n",
       "      <td>127641790.0</td>\n",
       "      <td>2022/4</td>\n",
       "    </tr>\n",
       "    <tr>\n",
       "      <th>1</th>\n",
       "      <td>2022</td>\n",
       "      <td>5</td>\n",
       "      <td>140698600.0</td>\n",
       "      <td>2022/5</td>\n",
       "    </tr>\n",
       "    <tr>\n",
       "      <th>2</th>\n",
       "      <td>2022</td>\n",
       "      <td>6</td>\n",
       "      <td>142425865.0</td>\n",
       "      <td>2022/6</td>\n",
       "    </tr>\n",
       "    <tr>\n",
       "      <th>3</th>\n",
       "      <td>2022</td>\n",
       "      <td>7</td>\n",
       "      <td>154625245.0</td>\n",
       "      <td>2022/7</td>\n",
       "    </tr>\n",
       "    <tr>\n",
       "      <th>4</th>\n",
       "      <td>2022</td>\n",
       "      <td>8</td>\n",
       "      <td>157283307.0</td>\n",
       "      <td>2022/8</td>\n",
       "    </tr>\n",
       "    <tr>\n",
       "      <th>5</th>\n",
       "      <td>2022</td>\n",
       "      <td>9</td>\n",
       "      <td>156163890.0</td>\n",
       "      <td>2022/9</td>\n",
       "    </tr>\n",
       "    <tr>\n",
       "      <th>6</th>\n",
       "      <td>2022</td>\n",
       "      <td>10</td>\n",
       "      <td>164647878.0</td>\n",
       "      <td>2022/10</td>\n",
       "    </tr>\n",
       "    <tr>\n",
       "      <th>7</th>\n",
       "      <td>2022</td>\n",
       "      <td>11</td>\n",
       "      <td>165741695.0</td>\n",
       "      <td>2022/11</td>\n",
       "    </tr>\n",
       "    <tr>\n",
       "      <th>8</th>\n",
       "      <td>2022</td>\n",
       "      <td>12</td>\n",
       "      <td>179724466.0</td>\n",
       "      <td>2022/12</td>\n",
       "    </tr>\n",
       "    <tr>\n",
       "      <th>9</th>\n",
       "      <td>2023</td>\n",
       "      <td>1</td>\n",
       "      <td>180622596.0</td>\n",
       "      <td>2023/1</td>\n",
       "    </tr>\n",
       "    <tr>\n",
       "      <th>10</th>\n",
       "      <td>2023</td>\n",
       "      <td>2</td>\n",
       "      <td>163673999.0</td>\n",
       "      <td>2023/2</td>\n",
       "    </tr>\n",
       "    <tr>\n",
       "      <th>11</th>\n",
       "      <td>2023</td>\n",
       "      <td>3</td>\n",
       "      <td>177987207.0</td>\n",
       "      <td>2023/3</td>\n",
       "    </tr>\n",
       "  </tbody>\n",
       "</table>\n",
       "</div>"
      ],
      "text/plain": [
       "    Year  Month   TotalPrice     Date\n",
       "0   2022      4  127641790.0   2022/4\n",
       "1   2022      5  140698600.0   2022/5\n",
       "2   2022      6  142425865.0   2022/6\n",
       "3   2022      7  154625245.0   2022/7\n",
       "4   2022      8  157283307.0   2022/8\n",
       "5   2022      9  156163890.0   2022/9\n",
       "6   2022     10  164647878.0  2022/10\n",
       "7   2022     11  165741695.0  2022/11\n",
       "8   2022     12  179724466.0  2022/12\n",
       "9   2023      1  180622596.0   2023/1\n",
       "10  2023      2  163673999.0   2023/2\n",
       "11  2023      3  177987207.0   2023/3"
      ]
     },
     "execution_count": 67,
     "metadata": {},
     "output_type": "execute_result"
    }
   ],
   "source": [
    "# Grouping the data to get overall monthly sales from actual dataset\n",
    "grouped = monthly_grouped_df.groupby([\"Year\",\"Month\"])\n",
    "month_actual_sales = grouped[\"TotalPrice\"].sum().reset_index()\n",
    "month_actual_sales_df = pd.DataFrame(month_actual_sales)\n",
    "month_actual_sales_df[\"Date\"] = month_actual_sales_df[\"Year\"].astype(str) +\"/\"+ month_actual_sales_df[\"Month\"].astype(str)\n",
    "month_actual_sales_df"
   ]
  },
  {
   "cell_type": "code",
   "execution_count": 68,
   "metadata": {
    "colab": {
     "base_uri": "https://localhost:8080/",
     "height": 238
    },
    "executionInfo": {
     "elapsed": 44,
     "status": "ok",
     "timestamp": 1683545507766,
     "user": {
      "displayName": "venkat ekkuluri",
      "userId": "14014234653489302162"
     },
     "user_tz": -330
    },
    "id": "QWBlp-XPMkmW",
    "outputId": "b3143a18-dfa0-42b3-bbf5-656a6d2761e3"
   },
   "outputs": [
    {
     "data": {
      "text/html": [
       "<div>\n",
       "<style scoped>\n",
       "    .dataframe tbody tr th:only-of-type {\n",
       "        vertical-align: middle;\n",
       "    }\n",
       "\n",
       "    .dataframe tbody tr th {\n",
       "        vertical-align: top;\n",
       "    }\n",
       "\n",
       "    .dataframe thead th {\n",
       "        text-align: right;\n",
       "    }\n",
       "</style>\n",
       "<table border=\"1\" class=\"dataframe\">\n",
       "  <thead>\n",
       "    <tr style=\"text-align: right;\">\n",
       "      <th></th>\n",
       "      <th>Year</th>\n",
       "      <th>Month</th>\n",
       "      <th>TotalPrice</th>\n",
       "      <th>Date</th>\n",
       "    </tr>\n",
       "  </thead>\n",
       "  <tbody>\n",
       "    <tr>\n",
       "      <th>0</th>\n",
       "      <td>2023</td>\n",
       "      <td>4</td>\n",
       "      <td>167000800.0</td>\n",
       "      <td>2023/4</td>\n",
       "    </tr>\n",
       "    <tr>\n",
       "      <th>1</th>\n",
       "      <td>2023</td>\n",
       "      <td>5</td>\n",
       "      <td>173781520.0</td>\n",
       "      <td>2023/5</td>\n",
       "    </tr>\n",
       "    <tr>\n",
       "      <th>2</th>\n",
       "      <td>2023</td>\n",
       "      <td>6</td>\n",
       "      <td>174999984.0</td>\n",
       "      <td>2023/6</td>\n",
       "    </tr>\n",
       "    <tr>\n",
       "      <th>3</th>\n",
       "      <td>2023</td>\n",
       "      <td>7</td>\n",
       "      <td>175746496.0</td>\n",
       "      <td>2023/7</td>\n",
       "    </tr>\n",
       "    <tr>\n",
       "      <th>4</th>\n",
       "      <td>2023</td>\n",
       "      <td>8</td>\n",
       "      <td>176123296.0</td>\n",
       "      <td>2023/8</td>\n",
       "    </tr>\n",
       "    <tr>\n",
       "      <th>5</th>\n",
       "      <td>2023</td>\n",
       "      <td>9</td>\n",
       "      <td>176463056.0</td>\n",
       "      <td>2023/9</td>\n",
       "    </tr>\n",
       "  </tbody>\n",
       "</table>\n",
       "</div>"
      ],
      "text/plain": [
       "   Year  Month   TotalPrice    Date\n",
       "0  2023      4  167000800.0  2023/4\n",
       "1  2023      5  173781520.0  2023/5\n",
       "2  2023      6  174999984.0  2023/6\n",
       "3  2023      7  175746496.0  2023/7\n",
       "4  2023      8  176123296.0  2023/8\n",
       "5  2023      9  176463056.0  2023/9"
      ]
     },
     "execution_count": 68,
     "metadata": {},
     "output_type": "execute_result"
    }
   ],
   "source": [
    "# Grouping the data to get overall monthly sales from preedicted dataset\n",
    "group = future_6month_pred.groupby([\"Year\",\"Month\"])\n",
    "month6_pred = group[\"TotalPrice\"].sum().reset_index()\n",
    "month6_pred_sales_df = pd.DataFrame(month6_pred)\n",
    "month6_pred_sales_df[\"Date\"] = month6_pred_sales_df[\"Year\"].astype(str) +\"/\"+ month6_pred_sales_df[\"Month\"].astype(str)\n",
    "month6_pred_sales_df"
   ]
  },
  {
   "cell_type": "code",
   "execution_count": 69,
   "metadata": {
    "colab": {
     "base_uri": "https://localhost:8080/",
     "height": 520
    },
    "executionInfo": {
     "elapsed": 45,
     "status": "ok",
     "timestamp": 1683545507769,
     "user": {
      "displayName": "venkat ekkuluri",
      "userId": "14014234653489302162"
     },
     "user_tz": -330
    },
    "id": "YFMjiOAPMuGW",
    "outputId": "48792c2f-8eac-4cf0-de12-a1f8ddbe635a"
   },
   "outputs": [
    {
     "data": {
      "image/png": "[encoded data removed]",
      "text/plain": [
       "<Figure size 1500x600 with 1 Axes>"
      ]
     },
     "metadata": {},
     "output_type": "display_data"
    }
   ],
   "source": [
    "# plotting overall sales with prediction\n",
    "fig, ax = plt.subplots(figsize=(15, 6))\n",
    "ax.bar(month_actual_sales_df.Date,month_actual_sales_df.TotalPrice,label='Actual sales')\n",
    "ax.bar(month6_pred_sales_df.Date,month6_pred_sales_df.TotalPrice,label='Predicted sales')\n",
    "\n",
    "plt.legend()\n",
    "plt.show()"
   ]
  },
  {
   "cell_type": "code",
   "execution_count": null,
   "metadata": {},
   "outputs": [],
   "source": []
  },
  {
   "cell_type": "code",
   "execution_count": null,
   "metadata": {},
   "outputs": [],
   "source": []
  }
 ],
 "metadata": {
  "colab": {
   "authorship_tag": "ABX9TyMtUOa8QV50OfBCFgFEkkM2",
   "mount_file_id": "1mNMSNoMJVRmHyS_sMKBq8TMCHWtI6JwL",
   "provenance": []
  },
  "kernelspec": {
   "display_name": "Python 3 (ipykernel)",
   "language": "python",
   "name": "python3"
  },
  "language_info": {
   "codemirror_mode": {
    "name": "ipython",
    "version": 3
   },
   "file_extension": ".py",
   "mimetype": "text/x-python",
   "name": "python",
   "nbconvert_exporter": "python",
   "pygments_lexer": "ipython3",
   "version": "3.8.10"
  }
 },
 "nbformat": 4,
 "nbformat_minor": 4
}
